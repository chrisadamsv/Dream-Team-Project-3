{
 "cells": [
  {
   "cell_type": "code",
   "execution_count": null,
   "metadata": {},
   "outputs": [
    {
     "name": "stdout",
     "output_type": "stream",
     "text": [
      "Connection to ev_db established successfully\n",
      "Available Tables: [('county_income',), ('location_info',), ('vehicle_types',), ('vehicles',), ('utility_companies',), ('cafv_eligibility',)]\n"
     ]
    }
   ],
   "source": [
    "import psycopg2\n",
    "import pandas as pd\n",
    "# Import postgres server info key\n",
    "from postgres_info import user, password\n",
    "\n",
    "while True:\n",
    "    try:\n",
    "        # Connect to the database\n",
    "        conn = psycopg2.connect(\n",
    "            host=\"127.0.0.1\",\n",
    "            port=\"5432\",\n",
    "            user=user,\n",
    "            password=password,\n",
    "            database=\"ev_db\"\n",
    "        )\n",
    "    except psycopg2.Error as e:\n",
    "        print(\"Error connecting to the database:\")\n",
    "        print(e)\n",
    "        break\n",
    "    else:\n",
    "        print(\"Connection to ev_db established successfully\")\n",
    "\n",
    "    try:\n",
    "        # Create a cursor object\n",
    "        cursor = conn.cursor()\n",
    "        select_table_names = \"\"\"SELECT table_name FROM ev_db.INFORMATION_SCHEMA.TABLES WHERE table_schema = 'public';\"\"\"\n",
    "        cursor.execute(select_table_names)\n",
    "        tables = cursor.fetchall()\n",
    "        print(f'Available Tables: {tables}')\n",
    "        # Write your SQL queries\n",
    "        input_query = input(\"Enter a SQL query to download table as CSV: \")\n",
    "        # Execute the query\n",
    "        cursor.execute(input_query)\n",
    "        # Fetch all rows from the result\n",
    "        rows = cursor.fetchall()\n",
    "        column_names = [desc[0] for desc in cursor.description]\n",
    "        input_df = pd.DataFrame(rows, columns=column_names)\n",
    "        # Ask for name for CSV\n",
    "        csv_name = input(\"Enter a name for the CSV: \")\n",
    "        # Save as csv to Input_App_CSVs directory\n",
    "        input_df.to_csv(f\"Input_App_CSVs/{csv_name}.csv\", index=False)\n",
    "        # Close cursor\n",
    "        cursor.close()\n",
    "    # Use expect to handle error    \n",
    "    except psycopg2.Error as e:\n",
    "        print(f\"Error: {e}\")\n",
    "\n",
    "    # Close connection\n",
    "    conn.close()\n",
    "\n",
    "    run_again = input(\"Do you want to run the script again? (yes/no): \").strip().lower()\n",
    "    if run_again != \"yes\":\n",
    "        print(\"Thank you for using our app!\")\n",
    "        break\n",
    "\n",
    "# Show dataframe\n",
    "input_df"
   ]
  }
 ],
 "metadata": {
  "kernelspec": {
   "display_name": "dev",
   "language": "python",
   "name": "python3"
  },
  "language_info": {
   "codemirror_mode": {
    "name": "ipython",
    "version": 3
   },
   "file_extension": ".py",
   "mimetype": "text/x-python",
   "name": "python",
   "nbconvert_exporter": "python",
   "pygments_lexer": "ipython3",
   "version": "3.10.14"
  }
 },
 "nbformat": 4,
 "nbformat_minor": 2
}
